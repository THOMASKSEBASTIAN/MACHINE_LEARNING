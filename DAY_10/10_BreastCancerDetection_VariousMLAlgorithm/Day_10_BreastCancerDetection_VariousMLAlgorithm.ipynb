{
  "cells": [
    {
      "cell_type": "markdown",
      "metadata": {
        "id": "AhpeX5Dm_eLW"
      },
      "source": [
        "# **Day-10_BreastCancerDetection_VariousMLAlgorithm**"
      ]
    },
    {
      "cell_type": "markdown",
      "metadata": {
        "id": "8rvHswu2td0Z"
      },
      "source": [
        "### *Importing Libraries*"
      ]
    },
    {
      "cell_type": "code",
      "execution_count": 1,
      "metadata": {
        "id": "P-YXxKhu_Uk4"
      },
      "outputs": [],
      "source": [
        "import pandas as pd #useful for loading the dataset\n",
        "import numpy as np #to perform array\n",
        "from matplotlib import pyplot"
      ]
    },
    {
      "cell_type": "markdown",
      "metadata": {
        "id": "mOt3nocbwvZk"
      },
      "source": [
        "### *Choose Dataset from Local Directory*"
      ]
    },
    {
      "cell_type": "code",
      "execution_count": 2,
      "metadata": {
        "id": "xB2NMwXtw2dG"
      },
      "outputs": [],
      "source": [
        "# from google.colab import files\n",
        "# uploaded = files.upload()"
      ]
    },
    {
      "cell_type": "markdown",
      "metadata": {
        "id": "69Kx6TycwzHo"
      },
      "source": [
        "### *Load Dataset*"
      ]
    },
    {
      "cell_type": "code",
      "execution_count": 3,
      "metadata": {
        "id": "7aXWQK9Cw7Dz"
      },
      "outputs": [],
      "source": [
        "dataset = pd.read_csv('data.csv')"
      ]
    },
    {
      "cell_type": "markdown",
      "metadata": {
        "id": "huZ5AaCtxD0p"
      },
      "source": [
        "### *Summarize Dataset*"
      ]
    },
    {
      "cell_type": "code",
      "execution_count": 5,
      "metadata": {
        "id": "SmD4EDrkxFzq"
      },
      "outputs": [
        {
          "name": "stdout",
          "output_type": "stream",
          "text": [
            "(569, 33)\n",
            "       id diagnosis  radius_mean  texture_mean  perimeter_mean  area_mean  \\\n",
            "0  842302         M        17.99         10.38           122.8     1001.0   \n",
            "\n",
            "   smoothness_mean  compactness_mean  concavity_mean  concave points_mean  \\\n",
            "0           0.1184            0.2776          0.3001               0.1471   \n",
            "\n",
            "   ...  texture_worst  perimeter_worst  area_worst  smoothness_worst  \\\n",
            "0  ...          17.33            184.6      2019.0            0.1622   \n",
            "\n",
            "   compactness_worst  concavity_worst  concave points_worst  symmetry_worst  \\\n",
            "0             0.6656           0.7119                0.2654          0.4601   \n",
            "\n",
            "   fractal_dimension_worst  Unnamed: 32  \n",
            "0                   0.1189          NaN  \n",
            "\n",
            "[1 rows x 33 columns]\n"
          ]
        }
      ],
      "source": [
        "print(dataset.shape)\n",
        "print(dataset.head(1))"
      ]
    },
    {
      "cell_type": "markdown",
      "metadata": {
        "id": "-MFwV-9k3Tu1"
      },
      "source": [
        "### *Mapping Class String Values to Numbers*"
      ]
    },
    {
      "cell_type": "code",
      "execution_count": 6,
      "metadata": {
        "id": "yJvwzEfF3ZMe"
      },
      "outputs": [
        {
          "name": "stdout",
          "output_type": "stream",
          "text": [
            "<bound method NDFrame.head of            id  diagnosis  radius_mean  texture_mean  perimeter_mean  \\\n",
            "0      842302          1        17.99         10.38          122.80   \n",
            "1      842517          1        20.57         17.77          132.90   \n",
            "2    84300903          1        19.69         21.25          130.00   \n",
            "3    84348301          1        11.42         20.38           77.58   \n",
            "4    84358402          1        20.29         14.34          135.10   \n",
            "..        ...        ...          ...           ...             ...   \n",
            "564    926424          1        21.56         22.39          142.00   \n",
            "565    926682          1        20.13         28.25          131.20   \n",
            "566    926954          1        16.60         28.08          108.30   \n",
            "567    927241          1        20.60         29.33          140.10   \n",
            "568     92751          0         7.76         24.54           47.92   \n",
            "\n",
            "     area_mean  smoothness_mean  compactness_mean  concavity_mean  \\\n",
            "0       1001.0          0.11840           0.27760         0.30010   \n",
            "1       1326.0          0.08474           0.07864         0.08690   \n",
            "2       1203.0          0.10960           0.15990         0.19740   \n",
            "3        386.1          0.14250           0.28390         0.24140   \n",
            "4       1297.0          0.10030           0.13280         0.19800   \n",
            "..         ...              ...               ...             ...   \n",
            "564     1479.0          0.11100           0.11590         0.24390   \n",
            "565     1261.0          0.09780           0.10340         0.14400   \n",
            "566      858.1          0.08455           0.10230         0.09251   \n",
            "567     1265.0          0.11780           0.27700         0.35140   \n",
            "568      181.0          0.05263           0.04362         0.00000   \n",
            "\n",
            "     concave points_mean  ...  texture_worst  perimeter_worst  area_worst  \\\n",
            "0                0.14710  ...          17.33           184.60      2019.0   \n",
            "1                0.07017  ...          23.41           158.80      1956.0   \n",
            "2                0.12790  ...          25.53           152.50      1709.0   \n",
            "3                0.10520  ...          26.50            98.87       567.7   \n",
            "4                0.10430  ...          16.67           152.20      1575.0   \n",
            "..                   ...  ...            ...              ...         ...   \n",
            "564              0.13890  ...          26.40           166.10      2027.0   \n",
            "565              0.09791  ...          38.25           155.00      1731.0   \n",
            "566              0.05302  ...          34.12           126.70      1124.0   \n",
            "567              0.15200  ...          39.42           184.60      1821.0   \n",
            "568              0.00000  ...          30.37            59.16       268.6   \n",
            "\n",
            "     smoothness_worst  compactness_worst  concavity_worst  \\\n",
            "0             0.16220            0.66560           0.7119   \n",
            "1             0.12380            0.18660           0.2416   \n",
            "2             0.14440            0.42450           0.4504   \n",
            "3             0.20980            0.86630           0.6869   \n",
            "4             0.13740            0.20500           0.4000   \n",
            "..                ...                ...              ...   \n",
            "564           0.14100            0.21130           0.4107   \n",
            "565           0.11660            0.19220           0.3215   \n",
            "566           0.11390            0.30940           0.3403   \n",
            "567           0.16500            0.86810           0.9387   \n",
            "568           0.08996            0.06444           0.0000   \n",
            "\n",
            "     concave points_worst  symmetry_worst  fractal_dimension_worst  \\\n",
            "0                  0.2654          0.4601                  0.11890   \n",
            "1                  0.1860          0.2750                  0.08902   \n",
            "2                  0.2430          0.3613                  0.08758   \n",
            "3                  0.2575          0.6638                  0.17300   \n",
            "4                  0.1625          0.2364                  0.07678   \n",
            "..                    ...             ...                      ...   \n",
            "564                0.2216          0.2060                  0.07115   \n",
            "565                0.1628          0.2572                  0.06637   \n",
            "566                0.1418          0.2218                  0.07820   \n",
            "567                0.2650          0.4087                  0.12400   \n",
            "568                0.0000          0.2871                  0.07039   \n",
            "\n",
            "     Unnamed: 32  \n",
            "0            NaN  \n",
            "1            NaN  \n",
            "2            NaN  \n",
            "3            NaN  \n",
            "4            NaN  \n",
            "..           ...  \n",
            "564          NaN  \n",
            "565          NaN  \n",
            "566          NaN  \n",
            "567          NaN  \n",
            "568          NaN  \n",
            "\n",
            "[569 rows x 33 columns]>\n"
          ]
        }
      ],
      "source": [
        "dataset['diagnosis'] = dataset['diagnosis'].map({'B': 0, 'M': 1}).astype(int)\n",
        "print(dataset.head)"
      ]
    },
    {
      "cell_type": "markdown",
      "metadata": {
        "id": "0qgR6rGRxH5y"
      },
      "source": [
        "### *Segregate Dataset into X(Input/IndependentVariable) & Y(Output/DependentVariable)*"
      ]
    },
    {
      "cell_type": "code",
      "execution_count": 8,
      "metadata": {
        "id": "8qOVIILpxefB"
      },
      "outputs": [
        {
          "data": {
            "text/plain": [
              "array([[1.799e+01, 1.038e+01, 1.228e+02, ..., 2.654e-01, 4.601e-01,\n",
              "        1.189e-01],\n",
              "       [2.057e+01, 1.777e+01, 1.329e+02, ..., 1.860e-01, 2.750e-01,\n",
              "        8.902e-02],\n",
              "       [1.969e+01, 2.125e+01, 1.300e+02, ..., 2.430e-01, 3.613e-01,\n",
              "        8.758e-02],\n",
              "       ...,\n",
              "       [1.660e+01, 2.808e+01, 1.083e+02, ..., 1.418e-01, 2.218e-01,\n",
              "        7.820e-02],\n",
              "       [2.060e+01, 2.933e+01, 1.401e+02, ..., 2.650e-01, 4.087e-01,\n",
              "        1.240e-01],\n",
              "       [7.760e+00, 2.454e+01, 4.792e+01, ..., 0.000e+00, 2.871e-01,\n",
              "        7.039e-02]])"
            ]
          },
          "execution_count": 8,
          "metadata": {},
          "output_type": "execute_result"
        }
      ],
      "source": [
        "X = dataset.iloc[:, 2:32].values\n",
        "X"
      ]
    },
    {
      "cell_type": "code",
      "execution_count": 9,
      "metadata": {
        "id": "TE6LNAwmxkBn"
      },
      "outputs": [
        {
          "data": {
            "text/plain": [
              "array([1, 1, 1, 1, 1, 1, 1, 1, 1, 1, 1, 1, 1, 1, 1, 1, 1, 1, 1, 0, 0, 0,\n",
              "       1, 1, 1, 1, 1, 1, 1, 1, 1, 1, 1, 1, 1, 1, 1, 0, 1, 1, 1, 1, 1, 1,\n",
              "       1, 1, 0, 1, 0, 0, 0, 0, 0, 1, 1, 0, 1, 1, 0, 0, 0, 0, 1, 0, 1, 1,\n",
              "       0, 0, 0, 0, 1, 0, 1, 1, 0, 1, 0, 1, 1, 0, 0, 0, 1, 1, 0, 1, 1, 1,\n",
              "       0, 0, 0, 1, 0, 0, 1, 1, 0, 0, 0, 1, 1, 0, 0, 0, 0, 1, 0, 0, 1, 0,\n",
              "       0, 0, 0, 0, 0, 0, 0, 1, 1, 1, 0, 1, 1, 0, 0, 0, 1, 1, 0, 1, 0, 1,\n",
              "       1, 0, 1, 1, 0, 0, 1, 0, 0, 1, 0, 0, 0, 0, 1, 0, 0, 0, 0, 0, 0, 0,\n",
              "       0, 0, 1, 0, 0, 0, 0, 1, 1, 0, 1, 0, 0, 1, 1, 0, 0, 1, 1, 0, 0, 0,\n",
              "       0, 1, 0, 0, 1, 1, 1, 0, 1, 0, 1, 0, 0, 0, 1, 0, 0, 1, 1, 0, 1, 1,\n",
              "       1, 1, 0, 1, 1, 1, 0, 1, 0, 1, 0, 0, 1, 0, 1, 1, 1, 1, 0, 0, 1, 1,\n",
              "       0, 0, 0, 1, 0, 0, 0, 0, 0, 1, 1, 0, 0, 1, 0, 0, 1, 1, 0, 1, 0, 0,\n",
              "       0, 0, 1, 0, 0, 0, 0, 0, 1, 0, 1, 1, 1, 1, 1, 1, 1, 1, 1, 1, 1, 1,\n",
              "       1, 1, 0, 0, 0, 0, 0, 0, 1, 0, 1, 0, 0, 1, 0, 0, 1, 0, 1, 1, 0, 0,\n",
              "       0, 0, 0, 0, 0, 0, 0, 0, 0, 0, 0, 1, 0, 0, 1, 0, 1, 0, 0, 0, 0, 0,\n",
              "       0, 0, 0, 0, 0, 0, 0, 0, 0, 1, 0, 0, 0, 1, 0, 1, 0, 0, 0, 0, 1, 1,\n",
              "       1, 0, 0, 0, 0, 1, 0, 1, 0, 1, 0, 0, 0, 1, 0, 0, 0, 0, 0, 0, 0, 1,\n",
              "       1, 1, 0, 0, 0, 0, 0, 0, 0, 0, 0, 0, 0, 1, 1, 0, 1, 1, 1, 0, 1, 1,\n",
              "       0, 0, 0, 0, 0, 1, 0, 0, 0, 0, 0, 1, 0, 0, 0, 1, 0, 0, 1, 1, 0, 0,\n",
              "       0, 0, 0, 0, 1, 0, 0, 0, 0, 0, 0, 0, 1, 0, 0, 0, 0, 0, 1, 0, 0, 1,\n",
              "       0, 0, 0, 0, 0, 0, 0, 0, 0, 0, 0, 0, 1, 0, 1, 1, 0, 1, 0, 0, 0, 0,\n",
              "       0, 1, 0, 0, 1, 0, 1, 0, 0, 1, 0, 1, 0, 0, 0, 0, 0, 0, 0, 0, 1, 1,\n",
              "       0, 0, 0, 0, 0, 0, 1, 0, 0, 0, 0, 0, 0, 0, 0, 0, 0, 1, 0, 0, 0, 0,\n",
              "       0, 0, 0, 1, 0, 1, 0, 0, 1, 0, 0, 0, 0, 0, 1, 1, 0, 1, 0, 1, 0, 0,\n",
              "       0, 0, 0, 1, 0, 0, 1, 0, 1, 0, 1, 1, 0, 0, 0, 1, 0, 0, 0, 0, 0, 0,\n",
              "       0, 0, 0, 0, 0, 1, 0, 1, 1, 0, 0, 0, 0, 0, 0, 0, 0, 0, 0, 0, 0, 0,\n",
              "       0, 0, 0, 0, 0, 0, 0, 0, 0, 0, 0, 0, 1, 1, 1, 1, 1, 1, 0])"
            ]
          },
          "execution_count": 9,
          "metadata": {},
          "output_type": "execute_result"
        }
      ],
      "source": [
        "Y = dataset.iloc[:,1].values\n",
        "Y"
      ]
    },
    {
      "cell_type": "markdown",
      "metadata": {
        "id": "oOzExtMjxmup"
      },
      "source": [
        "### *Splitting Dataset into Train & Test*"
      ]
    },
    {
      "cell_type": "code",
      "execution_count": 10,
      "metadata": {
        "id": "uJXcK2PHxqJ9"
      },
      "outputs": [],
      "source": [
        "from sklearn.model_selection import train_test_split\n",
        "X_train, X_test, y_train, y_test = train_test_split(X, Y, test_size = 0.25, random_state = 0)"
      ]
    },
    {
      "cell_type": "markdown",
      "metadata": {
        "id": "89y8rh-3yv15"
      },
      "source": [
        "### *Feature Scaling*\n",
        "### we scale our data to make all the features contribute equally to the result\n",
        "###Fit_Transform - fit method is calculating the mean and variance of each of the features present in our data\n",
        "###Transform - Transform method is transforming all the features using the respective mean and variance, \n",
        "###We want our test data to be a completely new and a surprise set for our model"
      ]
    },
    {
      "cell_type": "code",
      "execution_count": 11,
      "metadata": {
        "id": "ehsC_5BSy-Pa"
      },
      "outputs": [],
      "source": [
        "from sklearn.preprocessing import StandardScaler\n",
        "sc = StandardScaler()\n",
        "X_train = sc.fit_transform(X_train) \n",
        "X_test = sc.transform(X_test)"
      ]
    },
    {
      "cell_type": "markdown",
      "metadata": {
        "id": "X1gsZ3YZ51gz"
      },
      "source": [
        "### *Validating some ML algorithm by its accuracy - Model Score*"
      ]
    },
    {
      "cell_type": "code",
      "execution_count": 12,
      "metadata": {
        "id": "ekrjJPx_5-rJ"
      },
      "outputs": [],
      "source": [
        "from sklearn.discriminant_analysis import LinearDiscriminantAnalysis\n",
        "from sklearn.linear_model import LogisticRegression\n",
        "from sklearn.tree import DecisionTreeClassifier\n",
        "from sklearn.neighbors import KNeighborsClassifier\n",
        "from sklearn.naive_bayes import GaussianNB\n",
        "from sklearn.svm import SVC\n",
        "\n",
        "from sklearn.model_selection import cross_val_score\n",
        "from sklearn.model_selection import StratifiedKFold"
      ]
    },
    {
      "cell_type": "code",
      "execution_count": 13,
      "metadata": {
        "id": "7fmWEBDq6fUM"
      },
      "outputs": [],
      "source": [
        "models = []\n",
        "models.append(('LR', LogisticRegression(solver='liblinear', multi_class='ovr')))\n",
        "models.append(('LDA', LinearDiscriminantAnalysis()))\n",
        "models.append(('KNN', KNeighborsClassifier()))\n",
        "models.append(('CART', DecisionTreeClassifier()))\n",
        "models.append(('NB', GaussianNB()))\n",
        "models.append(('SVM', SVC(gamma='auto')))"
      ]
    },
    {
      "cell_type": "code",
      "execution_count": 14,
      "metadata": {
        "id": "r0dYFpqw6iXs"
      },
      "outputs": [
        {
          "name": "stdout",
          "output_type": "stream",
          "text": [
            "LR: 0.981285\n",
            "LDA: 0.957863\n"
          ]
        },
        {
          "name": "stderr",
          "output_type": "stream",
          "text": [
            "C:\\Users\\thoma\\AppData\\Roaming\\Python\\Python39\\site-packages\\sklearn\\model_selection\\_validation.py:776: UserWarning: Scoring failed. The score on this train-test partition for these parameters will be set to nan. Details: \n",
            "Traceback (most recent call last):\n",
            "  File \"C:\\Users\\thoma\\AppData\\Roaming\\Python\\Python39\\site-packages\\sklearn\\model_selection\\_validation.py\", line 767, in _score\n",
            "    scores = scorer(estimator, X_test, y_test)\n",
            "  File \"C:\\Users\\thoma\\AppData\\Roaming\\Python\\Python39\\site-packages\\sklearn\\metrics\\_scorer.py\", line 106, in __call__\n",
            "    score = scorer._score(cached_call, estimator, *args, **kwargs)\n",
            "  File \"C:\\Users\\thoma\\AppData\\Roaming\\Python\\Python39\\site-packages\\sklearn\\metrics\\_scorer.py\", line 261, in _score\n",
            "    y_pred = method_caller(estimator, \"predict\", X)\n",
            "  File \"C:\\Users\\thoma\\AppData\\Roaming\\Python\\Python39\\site-packages\\sklearn\\metrics\\_scorer.py\", line 71, in _cached_call\n",
            "    return getattr(estimator, method)(*args, **kwargs)\n",
            "  File \"C:\\Users\\thoma\\AppData\\Roaming\\Python\\Python39\\site-packages\\sklearn\\neighbors\\_classification.py\", line 226, in predict\n",
            "    neigh_ind = self.kneighbors(X, return_distance=False)\n",
            "  File \"C:\\Users\\thoma\\AppData\\Roaming\\Python\\Python39\\site-packages\\sklearn\\neighbors\\_base.py\", line 763, in kneighbors\n",
            "    results = PairwiseDistancesArgKmin.compute(\n",
            "  File \"sklearn\\metrics\\_pairwise_distances_reduction.pyx\", line 698, in sklearn.metrics._pairwise_distances_reduction.PairwiseDistancesArgKmin.compute\n",
            "  File \"C:\\Users\\thoma\\AppData\\Roaming\\Python\\Python39\\site-packages\\sklearn\\utils\\fixes.py\", line 151, in threadpool_limits\n",
            "    return threadpoolctl.threadpool_limits(limits=limits, user_api=user_api)\n",
            "  File \"c:\\Users\\thoma\\anaconda3\\lib\\site-packages\\threadpoolctl.py\", line 171, in __init__\n",
            "    self._original_info = self._set_threadpool_limits()\n",
            "  File \"c:\\Users\\thoma\\anaconda3\\lib\\site-packages\\threadpoolctl.py\", line 268, in _set_threadpool_limits\n",
            "    modules = _ThreadpoolInfo(prefixes=self._prefixes,\n",
            "  File \"c:\\Users\\thoma\\anaconda3\\lib\\site-packages\\threadpoolctl.py\", line 340, in __init__\n",
            "    self._load_modules()\n",
            "  File \"c:\\Users\\thoma\\anaconda3\\lib\\site-packages\\threadpoolctl.py\", line 373, in _load_modules\n",
            "    self._find_modules_with_enum_process_module_ex()\n",
            "  File \"c:\\Users\\thoma\\anaconda3\\lib\\site-packages\\threadpoolctl.py\", line 485, in _find_modules_with_enum_process_module_ex\n",
            "    self._make_module_from_path(filepath)\n",
            "  File \"c:\\Users\\thoma\\anaconda3\\lib\\site-packages\\threadpoolctl.py\", line 515, in _make_module_from_path\n",
            "    module = module_class(filepath, prefix, user_api, internal_api)\n",
            "  File \"c:\\Users\\thoma\\anaconda3\\lib\\site-packages\\threadpoolctl.py\", line 606, in __init__\n",
            "    self.version = self.get_version()\n",
            "  File \"c:\\Users\\thoma\\anaconda3\\lib\\site-packages\\threadpoolctl.py\", line 646, in get_version\n",
            "    config = get_config().split()\n",
            "AttributeError: 'NoneType' object has no attribute 'split'\n",
            "\n",
            "  warnings.warn(\n",
            "C:\\Users\\thoma\\AppData\\Roaming\\Python\\Python39\\site-packages\\sklearn\\model_selection\\_validation.py:776: UserWarning: Scoring failed. The score on this train-test partition for these parameters will be set to nan. Details: \n",
            "Traceback (most recent call last):\n",
            "  File \"C:\\Users\\thoma\\AppData\\Roaming\\Python\\Python39\\site-packages\\sklearn\\model_selection\\_validation.py\", line 767, in _score\n",
            "    scores = scorer(estimator, X_test, y_test)\n",
            "  File \"C:\\Users\\thoma\\AppData\\Roaming\\Python\\Python39\\site-packages\\sklearn\\metrics\\_scorer.py\", line 106, in __call__\n",
            "    score = scorer._score(cached_call, estimator, *args, **kwargs)\n",
            "  File \"C:\\Users\\thoma\\AppData\\Roaming\\Python\\Python39\\site-packages\\sklearn\\metrics\\_scorer.py\", line 261, in _score\n",
            "    y_pred = method_caller(estimator, \"predict\", X)\n",
            "  File \"C:\\Users\\thoma\\AppData\\Roaming\\Python\\Python39\\site-packages\\sklearn\\metrics\\_scorer.py\", line 71, in _cached_call\n",
            "    return getattr(estimator, method)(*args, **kwargs)\n",
            "  File \"C:\\Users\\thoma\\AppData\\Roaming\\Python\\Python39\\site-packages\\sklearn\\neighbors\\_classification.py\", line 226, in predict\n",
            "    neigh_ind = self.kneighbors(X, return_distance=False)\n",
            "  File \"C:\\Users\\thoma\\AppData\\Roaming\\Python\\Python39\\site-packages\\sklearn\\neighbors\\_base.py\", line 763, in kneighbors\n",
            "    results = PairwiseDistancesArgKmin.compute(\n",
            "  File \"sklearn\\metrics\\_pairwise_distances_reduction.pyx\", line 698, in sklearn.metrics._pairwise_distances_reduction.PairwiseDistancesArgKmin.compute\n",
            "  File \"C:\\Users\\thoma\\AppData\\Roaming\\Python\\Python39\\site-packages\\sklearn\\utils\\fixes.py\", line 151, in threadpool_limits\n",
            "    return threadpoolctl.threadpool_limits(limits=limits, user_api=user_api)\n",
            "  File \"c:\\Users\\thoma\\anaconda3\\lib\\site-packages\\threadpoolctl.py\", line 171, in __init__\n",
            "    self._original_info = self._set_threadpool_limits()\n",
            "  File \"c:\\Users\\thoma\\anaconda3\\lib\\site-packages\\threadpoolctl.py\", line 268, in _set_threadpool_limits\n",
            "    modules = _ThreadpoolInfo(prefixes=self._prefixes,\n",
            "  File \"c:\\Users\\thoma\\anaconda3\\lib\\site-packages\\threadpoolctl.py\", line 340, in __init__\n",
            "    self._load_modules()\n",
            "  File \"c:\\Users\\thoma\\anaconda3\\lib\\site-packages\\threadpoolctl.py\", line 373, in _load_modules\n",
            "    self._find_modules_with_enum_process_module_ex()\n",
            "  File \"c:\\Users\\thoma\\anaconda3\\lib\\site-packages\\threadpoolctl.py\", line 485, in _find_modules_with_enum_process_module_ex\n",
            "    self._make_module_from_path(filepath)\n",
            "  File \"c:\\Users\\thoma\\anaconda3\\lib\\site-packages\\threadpoolctl.py\", line 515, in _make_module_from_path\n",
            "    module = module_class(filepath, prefix, user_api, internal_api)\n",
            "  File \"c:\\Users\\thoma\\anaconda3\\lib\\site-packages\\threadpoolctl.py\", line 606, in __init__\n",
            "    self.version = self.get_version()\n",
            "  File \"c:\\Users\\thoma\\anaconda3\\lib\\site-packages\\threadpoolctl.py\", line 646, in get_version\n",
            "    config = get_config().split()\n",
            "AttributeError: 'NoneType' object has no attribute 'split'\n",
            "\n",
            "  warnings.warn(\n",
            "C:\\Users\\thoma\\AppData\\Roaming\\Python\\Python39\\site-packages\\sklearn\\model_selection\\_validation.py:776: UserWarning: Scoring failed. The score on this train-test partition for these parameters will be set to nan. Details: \n",
            "Traceback (most recent call last):\n",
            "  File \"C:\\Users\\thoma\\AppData\\Roaming\\Python\\Python39\\site-packages\\sklearn\\model_selection\\_validation.py\", line 767, in _score\n",
            "    scores = scorer(estimator, X_test, y_test)\n",
            "  File \"C:\\Users\\thoma\\AppData\\Roaming\\Python\\Python39\\site-packages\\sklearn\\metrics\\_scorer.py\", line 106, in __call__\n",
            "    score = scorer._score(cached_call, estimator, *args, **kwargs)\n",
            "  File \"C:\\Users\\thoma\\AppData\\Roaming\\Python\\Python39\\site-packages\\sklearn\\metrics\\_scorer.py\", line 261, in _score\n",
            "    y_pred = method_caller(estimator, \"predict\", X)\n",
            "  File \"C:\\Users\\thoma\\AppData\\Roaming\\Python\\Python39\\site-packages\\sklearn\\metrics\\_scorer.py\", line 71, in _cached_call\n",
            "    return getattr(estimator, method)(*args, **kwargs)\n",
            "  File \"C:\\Users\\thoma\\AppData\\Roaming\\Python\\Python39\\site-packages\\sklearn\\neighbors\\_classification.py\", line 226, in predict\n",
            "    neigh_ind = self.kneighbors(X, return_distance=False)\n",
            "  File \"C:\\Users\\thoma\\AppData\\Roaming\\Python\\Python39\\site-packages\\sklearn\\neighbors\\_base.py\", line 763, in kneighbors\n",
            "    results = PairwiseDistancesArgKmin.compute(\n",
            "  File \"sklearn\\metrics\\_pairwise_distances_reduction.pyx\", line 698, in sklearn.metrics._pairwise_distances_reduction.PairwiseDistancesArgKmin.compute\n",
            "  File \"C:\\Users\\thoma\\AppData\\Roaming\\Python\\Python39\\site-packages\\sklearn\\utils\\fixes.py\", line 151, in threadpool_limits\n",
            "    return threadpoolctl.threadpool_limits(limits=limits, user_api=user_api)\n",
            "  File \"c:\\Users\\thoma\\anaconda3\\lib\\site-packages\\threadpoolctl.py\", line 171, in __init__\n",
            "    self._original_info = self._set_threadpool_limits()\n",
            "  File \"c:\\Users\\thoma\\anaconda3\\lib\\site-packages\\threadpoolctl.py\", line 268, in _set_threadpool_limits\n",
            "    modules = _ThreadpoolInfo(prefixes=self._prefixes,\n",
            "  File \"c:\\Users\\thoma\\anaconda3\\lib\\site-packages\\threadpoolctl.py\", line 340, in __init__\n",
            "    self._load_modules()\n",
            "  File \"c:\\Users\\thoma\\anaconda3\\lib\\site-packages\\threadpoolctl.py\", line 373, in _load_modules\n",
            "    self._find_modules_with_enum_process_module_ex()\n",
            "  File \"c:\\Users\\thoma\\anaconda3\\lib\\site-packages\\threadpoolctl.py\", line 485, in _find_modules_with_enum_process_module_ex\n",
            "    self._make_module_from_path(filepath)\n",
            "  File \"c:\\Users\\thoma\\anaconda3\\lib\\site-packages\\threadpoolctl.py\", line 515, in _make_module_from_path\n",
            "    module = module_class(filepath, prefix, user_api, internal_api)\n",
            "  File \"c:\\Users\\thoma\\anaconda3\\lib\\site-packages\\threadpoolctl.py\", line 606, in __init__\n",
            "    self.version = self.get_version()\n",
            "  File \"c:\\Users\\thoma\\anaconda3\\lib\\site-packages\\threadpoolctl.py\", line 646, in get_version\n",
            "    config = get_config().split()\n",
            "AttributeError: 'NoneType' object has no attribute 'split'\n",
            "\n",
            "  warnings.warn(\n",
            "C:\\Users\\thoma\\AppData\\Roaming\\Python\\Python39\\site-packages\\sklearn\\model_selection\\_validation.py:776: UserWarning: Scoring failed. The score on this train-test partition for these parameters will be set to nan. Details: \n",
            "Traceback (most recent call last):\n",
            "  File \"C:\\Users\\thoma\\AppData\\Roaming\\Python\\Python39\\site-packages\\sklearn\\model_selection\\_validation.py\", line 767, in _score\n",
            "    scores = scorer(estimator, X_test, y_test)\n",
            "  File \"C:\\Users\\thoma\\AppData\\Roaming\\Python\\Python39\\site-packages\\sklearn\\metrics\\_scorer.py\", line 106, in __call__\n",
            "    score = scorer._score(cached_call, estimator, *args, **kwargs)\n",
            "  File \"C:\\Users\\thoma\\AppData\\Roaming\\Python\\Python39\\site-packages\\sklearn\\metrics\\_scorer.py\", line 261, in _score\n",
            "    y_pred = method_caller(estimator, \"predict\", X)\n",
            "  File \"C:\\Users\\thoma\\AppData\\Roaming\\Python\\Python39\\site-packages\\sklearn\\metrics\\_scorer.py\", line 71, in _cached_call\n",
            "    return getattr(estimator, method)(*args, **kwargs)\n",
            "  File \"C:\\Users\\thoma\\AppData\\Roaming\\Python\\Python39\\site-packages\\sklearn\\neighbors\\_classification.py\", line 226, in predict\n",
            "    neigh_ind = self.kneighbors(X, return_distance=False)\n",
            "  File \"C:\\Users\\thoma\\AppData\\Roaming\\Python\\Python39\\site-packages\\sklearn\\neighbors\\_base.py\", line 763, in kneighbors\n",
            "    results = PairwiseDistancesArgKmin.compute(\n",
            "  File \"sklearn\\metrics\\_pairwise_distances_reduction.pyx\", line 698, in sklearn.metrics._pairwise_distances_reduction.PairwiseDistancesArgKmin.compute\n",
            "  File \"C:\\Users\\thoma\\AppData\\Roaming\\Python\\Python39\\site-packages\\sklearn\\utils\\fixes.py\", line 151, in threadpool_limits\n",
            "    return threadpoolctl.threadpool_limits(limits=limits, user_api=user_api)\n",
            "  File \"c:\\Users\\thoma\\anaconda3\\lib\\site-packages\\threadpoolctl.py\", line 171, in __init__\n",
            "    self._original_info = self._set_threadpool_limits()\n",
            "  File \"c:\\Users\\thoma\\anaconda3\\lib\\site-packages\\threadpoolctl.py\", line 268, in _set_threadpool_limits\n",
            "    modules = _ThreadpoolInfo(prefixes=self._prefixes,\n",
            "  File \"c:\\Users\\thoma\\anaconda3\\lib\\site-packages\\threadpoolctl.py\", line 340, in __init__\n",
            "    self._load_modules()\n",
            "  File \"c:\\Users\\thoma\\anaconda3\\lib\\site-packages\\threadpoolctl.py\", line 373, in _load_modules\n",
            "    self._find_modules_with_enum_process_module_ex()\n",
            "  File \"c:\\Users\\thoma\\anaconda3\\lib\\site-packages\\threadpoolctl.py\", line 485, in _find_modules_with_enum_process_module_ex\n",
            "    self._make_module_from_path(filepath)\n",
            "  File \"c:\\Users\\thoma\\anaconda3\\lib\\site-packages\\threadpoolctl.py\", line 515, in _make_module_from_path\n",
            "    module = module_class(filepath, prefix, user_api, internal_api)\n",
            "  File \"c:\\Users\\thoma\\anaconda3\\lib\\site-packages\\threadpoolctl.py\", line 606, in __init__\n",
            "    self.version = self.get_version()\n",
            "  File \"c:\\Users\\thoma\\anaconda3\\lib\\site-packages\\threadpoolctl.py\", line 646, in get_version\n",
            "    config = get_config().split()\n",
            "AttributeError: 'NoneType' object has no attribute 'split'\n",
            "\n",
            "  warnings.warn(\n",
            "C:\\Users\\thoma\\AppData\\Roaming\\Python\\Python39\\site-packages\\sklearn\\model_selection\\_validation.py:776: UserWarning: Scoring failed. The score on this train-test partition for these parameters will be set to nan. Details: \n",
            "Traceback (most recent call last):\n",
            "  File \"C:\\Users\\thoma\\AppData\\Roaming\\Python\\Python39\\site-packages\\sklearn\\model_selection\\_validation.py\", line 767, in _score\n",
            "    scores = scorer(estimator, X_test, y_test)\n",
            "  File \"C:\\Users\\thoma\\AppData\\Roaming\\Python\\Python39\\site-packages\\sklearn\\metrics\\_scorer.py\", line 106, in __call__\n",
            "    score = scorer._score(cached_call, estimator, *args, **kwargs)\n",
            "  File \"C:\\Users\\thoma\\AppData\\Roaming\\Python\\Python39\\site-packages\\sklearn\\metrics\\_scorer.py\", line 261, in _score\n",
            "    y_pred = method_caller(estimator, \"predict\", X)\n",
            "  File \"C:\\Users\\thoma\\AppData\\Roaming\\Python\\Python39\\site-packages\\sklearn\\metrics\\_scorer.py\", line 71, in _cached_call\n",
            "    return getattr(estimator, method)(*args, **kwargs)\n",
            "  File \"C:\\Users\\thoma\\AppData\\Roaming\\Python\\Python39\\site-packages\\sklearn\\neighbors\\_classification.py\", line 226, in predict\n",
            "    neigh_ind = self.kneighbors(X, return_distance=False)\n",
            "  File \"C:\\Users\\thoma\\AppData\\Roaming\\Python\\Python39\\site-packages\\sklearn\\neighbors\\_base.py\", line 763, in kneighbors\n",
            "    results = PairwiseDistancesArgKmin.compute(\n",
            "  File \"sklearn\\metrics\\_pairwise_distances_reduction.pyx\", line 698, in sklearn.metrics._pairwise_distances_reduction.PairwiseDistancesArgKmin.compute\n",
            "  File \"C:\\Users\\thoma\\AppData\\Roaming\\Python\\Python39\\site-packages\\sklearn\\utils\\fixes.py\", line 151, in threadpool_limits\n",
            "    return threadpoolctl.threadpool_limits(limits=limits, user_api=user_api)\n",
            "  File \"c:\\Users\\thoma\\anaconda3\\lib\\site-packages\\threadpoolctl.py\", line 171, in __init__\n",
            "    self._original_info = self._set_threadpool_limits()\n",
            "  File \"c:\\Users\\thoma\\anaconda3\\lib\\site-packages\\threadpoolctl.py\", line 268, in _set_threadpool_limits\n",
            "    modules = _ThreadpoolInfo(prefixes=self._prefixes,\n",
            "  File \"c:\\Users\\thoma\\anaconda3\\lib\\site-packages\\threadpoolctl.py\", line 340, in __init__\n",
            "    self._load_modules()\n",
            "  File \"c:\\Users\\thoma\\anaconda3\\lib\\site-packages\\threadpoolctl.py\", line 373, in _load_modules\n",
            "    self._find_modules_with_enum_process_module_ex()\n",
            "  File \"c:\\Users\\thoma\\anaconda3\\lib\\site-packages\\threadpoolctl.py\", line 485, in _find_modules_with_enum_process_module_ex\n",
            "    self._make_module_from_path(filepath)\n",
            "  File \"c:\\Users\\thoma\\anaconda3\\lib\\site-packages\\threadpoolctl.py\", line 515, in _make_module_from_path\n",
            "    module = module_class(filepath, prefix, user_api, internal_api)\n",
            "  File \"c:\\Users\\thoma\\anaconda3\\lib\\site-packages\\threadpoolctl.py\", line 606, in __init__\n",
            "    self.version = self.get_version()\n",
            "  File \"c:\\Users\\thoma\\anaconda3\\lib\\site-packages\\threadpoolctl.py\", line 646, in get_version\n",
            "    config = get_config().split()\n",
            "AttributeError: 'NoneType' object has no attribute 'split'\n",
            "\n",
            "  warnings.warn(\n",
            "C:\\Users\\thoma\\AppData\\Roaming\\Python\\Python39\\site-packages\\sklearn\\model_selection\\_validation.py:776: UserWarning: Scoring failed. The score on this train-test partition for these parameters will be set to nan. Details: \n",
            "Traceback (most recent call last):\n",
            "  File \"C:\\Users\\thoma\\AppData\\Roaming\\Python\\Python39\\site-packages\\sklearn\\model_selection\\_validation.py\", line 767, in _score\n",
            "    scores = scorer(estimator, X_test, y_test)\n",
            "  File \"C:\\Users\\thoma\\AppData\\Roaming\\Python\\Python39\\site-packages\\sklearn\\metrics\\_scorer.py\", line 106, in __call__\n",
            "    score = scorer._score(cached_call, estimator, *args, **kwargs)\n",
            "  File \"C:\\Users\\thoma\\AppData\\Roaming\\Python\\Python39\\site-packages\\sklearn\\metrics\\_scorer.py\", line 261, in _score\n",
            "    y_pred = method_caller(estimator, \"predict\", X)\n",
            "  File \"C:\\Users\\thoma\\AppData\\Roaming\\Python\\Python39\\site-packages\\sklearn\\metrics\\_scorer.py\", line 71, in _cached_call\n",
            "    return getattr(estimator, method)(*args, **kwargs)\n",
            "  File \"C:\\Users\\thoma\\AppData\\Roaming\\Python\\Python39\\site-packages\\sklearn\\neighbors\\_classification.py\", line 226, in predict\n",
            "    neigh_ind = self.kneighbors(X, return_distance=False)\n",
            "  File \"C:\\Users\\thoma\\AppData\\Roaming\\Python\\Python39\\site-packages\\sklearn\\neighbors\\_base.py\", line 763, in kneighbors\n",
            "    results = PairwiseDistancesArgKmin.compute(\n",
            "  File \"sklearn\\metrics\\_pairwise_distances_reduction.pyx\", line 698, in sklearn.metrics._pairwise_distances_reduction.PairwiseDistancesArgKmin.compute\n",
            "  File \"C:\\Users\\thoma\\AppData\\Roaming\\Python\\Python39\\site-packages\\sklearn\\utils\\fixes.py\", line 151, in threadpool_limits\n",
            "    return threadpoolctl.threadpool_limits(limits=limits, user_api=user_api)\n",
            "  File \"c:\\Users\\thoma\\anaconda3\\lib\\site-packages\\threadpoolctl.py\", line 171, in __init__\n",
            "    self._original_info = self._set_threadpool_limits()\n",
            "  File \"c:\\Users\\thoma\\anaconda3\\lib\\site-packages\\threadpoolctl.py\", line 268, in _set_threadpool_limits\n",
            "    modules = _ThreadpoolInfo(prefixes=self._prefixes,\n",
            "  File \"c:\\Users\\thoma\\anaconda3\\lib\\site-packages\\threadpoolctl.py\", line 340, in __init__\n",
            "    self._load_modules()\n",
            "  File \"c:\\Users\\thoma\\anaconda3\\lib\\site-packages\\threadpoolctl.py\", line 373, in _load_modules\n",
            "    self._find_modules_with_enum_process_module_ex()\n",
            "  File \"c:\\Users\\thoma\\anaconda3\\lib\\site-packages\\threadpoolctl.py\", line 485, in _find_modules_with_enum_process_module_ex\n",
            "    self._make_module_from_path(filepath)\n",
            "  File \"c:\\Users\\thoma\\anaconda3\\lib\\site-packages\\threadpoolctl.py\", line 515, in _make_module_from_path\n",
            "    module = module_class(filepath, prefix, user_api, internal_api)\n",
            "  File \"c:\\Users\\thoma\\anaconda3\\lib\\site-packages\\threadpoolctl.py\", line 606, in __init__\n",
            "    self.version = self.get_version()\n",
            "  File \"c:\\Users\\thoma\\anaconda3\\lib\\site-packages\\threadpoolctl.py\", line 646, in get_version\n",
            "    config = get_config().split()\n",
            "AttributeError: 'NoneType' object has no attribute 'split'\n",
            "\n",
            "  warnings.warn(\n",
            "C:\\Users\\thoma\\AppData\\Roaming\\Python\\Python39\\site-packages\\sklearn\\model_selection\\_validation.py:776: UserWarning: Scoring failed. The score on this train-test partition for these parameters will be set to nan. Details: \n",
            "Traceback (most recent call last):\n",
            "  File \"C:\\Users\\thoma\\AppData\\Roaming\\Python\\Python39\\site-packages\\sklearn\\model_selection\\_validation.py\", line 767, in _score\n",
            "    scores = scorer(estimator, X_test, y_test)\n",
            "  File \"C:\\Users\\thoma\\AppData\\Roaming\\Python\\Python39\\site-packages\\sklearn\\metrics\\_scorer.py\", line 106, in __call__\n",
            "    score = scorer._score(cached_call, estimator, *args, **kwargs)\n",
            "  File \"C:\\Users\\thoma\\AppData\\Roaming\\Python\\Python39\\site-packages\\sklearn\\metrics\\_scorer.py\", line 261, in _score\n",
            "    y_pred = method_caller(estimator, \"predict\", X)\n",
            "  File \"C:\\Users\\thoma\\AppData\\Roaming\\Python\\Python39\\site-packages\\sklearn\\metrics\\_scorer.py\", line 71, in _cached_call\n",
            "    return getattr(estimator, method)(*args, **kwargs)\n",
            "  File \"C:\\Users\\thoma\\AppData\\Roaming\\Python\\Python39\\site-packages\\sklearn\\neighbors\\_classification.py\", line 226, in predict\n",
            "    neigh_ind = self.kneighbors(X, return_distance=False)\n",
            "  File \"C:\\Users\\thoma\\AppData\\Roaming\\Python\\Python39\\site-packages\\sklearn\\neighbors\\_base.py\", line 763, in kneighbors\n",
            "    results = PairwiseDistancesArgKmin.compute(\n",
            "  File \"sklearn\\metrics\\_pairwise_distances_reduction.pyx\", line 698, in sklearn.metrics._pairwise_distances_reduction.PairwiseDistancesArgKmin.compute\n",
            "  File \"C:\\Users\\thoma\\AppData\\Roaming\\Python\\Python39\\site-packages\\sklearn\\utils\\fixes.py\", line 151, in threadpool_limits\n",
            "    return threadpoolctl.threadpool_limits(limits=limits, user_api=user_api)\n",
            "  File \"c:\\Users\\thoma\\anaconda3\\lib\\site-packages\\threadpoolctl.py\", line 171, in __init__\n",
            "    self._original_info = self._set_threadpool_limits()\n",
            "  File \"c:\\Users\\thoma\\anaconda3\\lib\\site-packages\\threadpoolctl.py\", line 268, in _set_threadpool_limits\n",
            "    modules = _ThreadpoolInfo(prefixes=self._prefixes,\n",
            "  File \"c:\\Users\\thoma\\anaconda3\\lib\\site-packages\\threadpoolctl.py\", line 340, in __init__\n",
            "    self._load_modules()\n",
            "  File \"c:\\Users\\thoma\\anaconda3\\lib\\site-packages\\threadpoolctl.py\", line 373, in _load_modules\n",
            "    self._find_modules_with_enum_process_module_ex()\n",
            "  File \"c:\\Users\\thoma\\anaconda3\\lib\\site-packages\\threadpoolctl.py\", line 485, in _find_modules_with_enum_process_module_ex\n",
            "    self._make_module_from_path(filepath)\n",
            "  File \"c:\\Users\\thoma\\anaconda3\\lib\\site-packages\\threadpoolctl.py\", line 515, in _make_module_from_path\n",
            "    module = module_class(filepath, prefix, user_api, internal_api)\n",
            "  File \"c:\\Users\\thoma\\anaconda3\\lib\\site-packages\\threadpoolctl.py\", line 606, in __init__\n",
            "    self.version = self.get_version()\n",
            "  File \"c:\\Users\\thoma\\anaconda3\\lib\\site-packages\\threadpoolctl.py\", line 646, in get_version\n",
            "    config = get_config().split()\n",
            "AttributeError: 'NoneType' object has no attribute 'split'\n",
            "\n",
            "  warnings.warn(\n",
            "C:\\Users\\thoma\\AppData\\Roaming\\Python\\Python39\\site-packages\\sklearn\\model_selection\\_validation.py:776: UserWarning: Scoring failed. The score on this train-test partition for these parameters will be set to nan. Details: \n",
            "Traceback (most recent call last):\n",
            "  File \"C:\\Users\\thoma\\AppData\\Roaming\\Python\\Python39\\site-packages\\sklearn\\model_selection\\_validation.py\", line 767, in _score\n",
            "    scores = scorer(estimator, X_test, y_test)\n",
            "  File \"C:\\Users\\thoma\\AppData\\Roaming\\Python\\Python39\\site-packages\\sklearn\\metrics\\_scorer.py\", line 106, in __call__\n",
            "    score = scorer._score(cached_call, estimator, *args, **kwargs)\n",
            "  File \"C:\\Users\\thoma\\AppData\\Roaming\\Python\\Python39\\site-packages\\sklearn\\metrics\\_scorer.py\", line 261, in _score\n",
            "    y_pred = method_caller(estimator, \"predict\", X)\n",
            "  File \"C:\\Users\\thoma\\AppData\\Roaming\\Python\\Python39\\site-packages\\sklearn\\metrics\\_scorer.py\", line 71, in _cached_call\n",
            "    return getattr(estimator, method)(*args, **kwargs)\n",
            "  File \"C:\\Users\\thoma\\AppData\\Roaming\\Python\\Python39\\site-packages\\sklearn\\neighbors\\_classification.py\", line 226, in predict\n",
            "    neigh_ind = self.kneighbors(X, return_distance=False)\n",
            "  File \"C:\\Users\\thoma\\AppData\\Roaming\\Python\\Python39\\site-packages\\sklearn\\neighbors\\_base.py\", line 763, in kneighbors\n",
            "    results = PairwiseDistancesArgKmin.compute(\n",
            "  File \"sklearn\\metrics\\_pairwise_distances_reduction.pyx\", line 698, in sklearn.metrics._pairwise_distances_reduction.PairwiseDistancesArgKmin.compute\n",
            "  File \"C:\\Users\\thoma\\AppData\\Roaming\\Python\\Python39\\site-packages\\sklearn\\utils\\fixes.py\", line 151, in threadpool_limits\n",
            "    return threadpoolctl.threadpool_limits(limits=limits, user_api=user_api)\n",
            "  File \"c:\\Users\\thoma\\anaconda3\\lib\\site-packages\\threadpoolctl.py\", line 171, in __init__\n",
            "    self._original_info = self._set_threadpool_limits()\n",
            "  File \"c:\\Users\\thoma\\anaconda3\\lib\\site-packages\\threadpoolctl.py\", line 268, in _set_threadpool_limits\n",
            "    modules = _ThreadpoolInfo(prefixes=self._prefixes,\n",
            "  File \"c:\\Users\\thoma\\anaconda3\\lib\\site-packages\\threadpoolctl.py\", line 340, in __init__\n",
            "    self._load_modules()\n",
            "  File \"c:\\Users\\thoma\\anaconda3\\lib\\site-packages\\threadpoolctl.py\", line 373, in _load_modules\n",
            "    self._find_modules_with_enum_process_module_ex()\n",
            "  File \"c:\\Users\\thoma\\anaconda3\\lib\\site-packages\\threadpoolctl.py\", line 485, in _find_modules_with_enum_process_module_ex\n",
            "    self._make_module_from_path(filepath)\n",
            "  File \"c:\\Users\\thoma\\anaconda3\\lib\\site-packages\\threadpoolctl.py\", line 515, in _make_module_from_path\n",
            "    module = module_class(filepath, prefix, user_api, internal_api)\n",
            "  File \"c:\\Users\\thoma\\anaconda3\\lib\\site-packages\\threadpoolctl.py\", line 606, in __init__\n",
            "    self.version = self.get_version()\n",
            "  File \"c:\\Users\\thoma\\anaconda3\\lib\\site-packages\\threadpoolctl.py\", line 646, in get_version\n",
            "    config = get_config().split()\n",
            "AttributeError: 'NoneType' object has no attribute 'split'\n",
            "\n",
            "  warnings.warn(\n",
            "C:\\Users\\thoma\\AppData\\Roaming\\Python\\Python39\\site-packages\\sklearn\\model_selection\\_validation.py:776: UserWarning: Scoring failed. The score on this train-test partition for these parameters will be set to nan. Details: \n",
            "Traceback (most recent call last):\n",
            "  File \"C:\\Users\\thoma\\AppData\\Roaming\\Python\\Python39\\site-packages\\sklearn\\model_selection\\_validation.py\", line 767, in _score\n",
            "    scores = scorer(estimator, X_test, y_test)\n",
            "  File \"C:\\Users\\thoma\\AppData\\Roaming\\Python\\Python39\\site-packages\\sklearn\\metrics\\_scorer.py\", line 106, in __call__\n",
            "    score = scorer._score(cached_call, estimator, *args, **kwargs)\n",
            "  File \"C:\\Users\\thoma\\AppData\\Roaming\\Python\\Python39\\site-packages\\sklearn\\metrics\\_scorer.py\", line 261, in _score\n",
            "    y_pred = method_caller(estimator, \"predict\", X)\n",
            "  File \"C:\\Users\\thoma\\AppData\\Roaming\\Python\\Python39\\site-packages\\sklearn\\metrics\\_scorer.py\", line 71, in _cached_call\n",
            "    return getattr(estimator, method)(*args, **kwargs)\n",
            "  File \"C:\\Users\\thoma\\AppData\\Roaming\\Python\\Python39\\site-packages\\sklearn\\neighbors\\_classification.py\", line 226, in predict\n",
            "    neigh_ind = self.kneighbors(X, return_distance=False)\n",
            "  File \"C:\\Users\\thoma\\AppData\\Roaming\\Python\\Python39\\site-packages\\sklearn\\neighbors\\_base.py\", line 763, in kneighbors\n",
            "    results = PairwiseDistancesArgKmin.compute(\n",
            "  File \"sklearn\\metrics\\_pairwise_distances_reduction.pyx\", line 698, in sklearn.metrics._pairwise_distances_reduction.PairwiseDistancesArgKmin.compute\n",
            "  File \"C:\\Users\\thoma\\AppData\\Roaming\\Python\\Python39\\site-packages\\sklearn\\utils\\fixes.py\", line 151, in threadpool_limits\n",
            "    return threadpoolctl.threadpool_limits(limits=limits, user_api=user_api)\n",
            "  File \"c:\\Users\\thoma\\anaconda3\\lib\\site-packages\\threadpoolctl.py\", line 171, in __init__\n",
            "    self._original_info = self._set_threadpool_limits()\n",
            "  File \"c:\\Users\\thoma\\anaconda3\\lib\\site-packages\\threadpoolctl.py\", line 268, in _set_threadpool_limits\n",
            "    modules = _ThreadpoolInfo(prefixes=self._prefixes,\n",
            "  File \"c:\\Users\\thoma\\anaconda3\\lib\\site-packages\\threadpoolctl.py\", line 340, in __init__\n",
            "    self._load_modules()\n",
            "  File \"c:\\Users\\thoma\\anaconda3\\lib\\site-packages\\threadpoolctl.py\", line 373, in _load_modules\n",
            "    self._find_modules_with_enum_process_module_ex()\n",
            "  File \"c:\\Users\\thoma\\anaconda3\\lib\\site-packages\\threadpoolctl.py\", line 485, in _find_modules_with_enum_process_module_ex\n",
            "    self._make_module_from_path(filepath)\n",
            "  File \"c:\\Users\\thoma\\anaconda3\\lib\\site-packages\\threadpoolctl.py\", line 515, in _make_module_from_path\n",
            "    module = module_class(filepath, prefix, user_api, internal_api)\n",
            "  File \"c:\\Users\\thoma\\anaconda3\\lib\\site-packages\\threadpoolctl.py\", line 606, in __init__\n",
            "    self.version = self.get_version()\n",
            "  File \"c:\\Users\\thoma\\anaconda3\\lib\\site-packages\\threadpoolctl.py\", line 646, in get_version\n",
            "    config = get_config().split()\n",
            "AttributeError: 'NoneType' object has no attribute 'split'\n",
            "\n",
            "  warnings.warn(\n",
            "C:\\Users\\thoma\\AppData\\Roaming\\Python\\Python39\\site-packages\\sklearn\\model_selection\\_validation.py:776: UserWarning: Scoring failed. The score on this train-test partition for these parameters will be set to nan. Details: \n",
            "Traceback (most recent call last):\n",
            "  File \"C:\\Users\\thoma\\AppData\\Roaming\\Python\\Python39\\site-packages\\sklearn\\model_selection\\_validation.py\", line 767, in _score\n",
            "    scores = scorer(estimator, X_test, y_test)\n",
            "  File \"C:\\Users\\thoma\\AppData\\Roaming\\Python\\Python39\\site-packages\\sklearn\\metrics\\_scorer.py\", line 106, in __call__\n",
            "    score = scorer._score(cached_call, estimator, *args, **kwargs)\n",
            "  File \"C:\\Users\\thoma\\AppData\\Roaming\\Python\\Python39\\site-packages\\sklearn\\metrics\\_scorer.py\", line 261, in _score\n",
            "    y_pred = method_caller(estimator, \"predict\", X)\n",
            "  File \"C:\\Users\\thoma\\AppData\\Roaming\\Python\\Python39\\site-packages\\sklearn\\metrics\\_scorer.py\", line 71, in _cached_call\n",
            "    return getattr(estimator, method)(*args, **kwargs)\n",
            "  File \"C:\\Users\\thoma\\AppData\\Roaming\\Python\\Python39\\site-packages\\sklearn\\neighbors\\_classification.py\", line 226, in predict\n",
            "    neigh_ind = self.kneighbors(X, return_distance=False)\n",
            "  File \"C:\\Users\\thoma\\AppData\\Roaming\\Python\\Python39\\site-packages\\sklearn\\neighbors\\_base.py\", line 763, in kneighbors\n",
            "    results = PairwiseDistancesArgKmin.compute(\n",
            "  File \"sklearn\\metrics\\_pairwise_distances_reduction.pyx\", line 698, in sklearn.metrics._pairwise_distances_reduction.PairwiseDistancesArgKmin.compute\n",
            "  File \"C:\\Users\\thoma\\AppData\\Roaming\\Python\\Python39\\site-packages\\sklearn\\utils\\fixes.py\", line 151, in threadpool_limits\n",
            "    return threadpoolctl.threadpool_limits(limits=limits, user_api=user_api)\n",
            "  File \"c:\\Users\\thoma\\anaconda3\\lib\\site-packages\\threadpoolctl.py\", line 171, in __init__\n",
            "    self._original_info = self._set_threadpool_limits()\n",
            "  File \"c:\\Users\\thoma\\anaconda3\\lib\\site-packages\\threadpoolctl.py\", line 268, in _set_threadpool_limits\n",
            "    modules = _ThreadpoolInfo(prefixes=self._prefixes,\n",
            "  File \"c:\\Users\\thoma\\anaconda3\\lib\\site-packages\\threadpoolctl.py\", line 340, in __init__\n",
            "    self._load_modules()\n",
            "  File \"c:\\Users\\thoma\\anaconda3\\lib\\site-packages\\threadpoolctl.py\", line 373, in _load_modules\n",
            "    self._find_modules_with_enum_process_module_ex()\n",
            "  File \"c:\\Users\\thoma\\anaconda3\\lib\\site-packages\\threadpoolctl.py\", line 485, in _find_modules_with_enum_process_module_ex\n",
            "    self._make_module_from_path(filepath)\n",
            "  File \"c:\\Users\\thoma\\anaconda3\\lib\\site-packages\\threadpoolctl.py\", line 515, in _make_module_from_path\n",
            "    module = module_class(filepath, prefix, user_api, internal_api)\n",
            "  File \"c:\\Users\\thoma\\anaconda3\\lib\\site-packages\\threadpoolctl.py\", line 606, in __init__\n",
            "    self.version = self.get_version()\n",
            "  File \"c:\\Users\\thoma\\anaconda3\\lib\\site-packages\\threadpoolctl.py\", line 646, in get_version\n",
            "    config = get_config().split()\n",
            "AttributeError: 'NoneType' object has no attribute 'split'\n",
            "\n",
            "  warnings.warn(\n"
          ]
        },
        {
          "name": "stdout",
          "output_type": "stream",
          "text": [
            "KNN: nan\n",
            "CART: 0.929513\n",
            "NB: 0.941417\n",
            "SVM: 0.979014\n"
          ]
        },
        {
          "data": {
            "image/png": "[encoded data removed]",
            "text/plain": [
              "<Figure size 432x288 with 1 Axes>"
            ]
          },
          "metadata": {
            "needs_background": "light"
          },
          "output_type": "display_data"
        }
      ],
      "source": [
        "results = []\n",
        "names = []\n",
        "res = []\n",
        "for name, model in models:\n",
        "    kfold = StratifiedKFold(n_splits=10, random_state=None)\n",
        "    cv_results = cross_val_score(model, X_train, y_train, cv=kfold, scoring='accuracy')\n",
        "    results.append(cv_results)\n",
        "    names.append(name)\n",
        "    res.append(cv_results.mean())\n",
        "    print('%s: %f' % (name, cv_results.mean()))\n",
        "\n",
        "pyplot.ylim(.900, .999)\n",
        "pyplot.bar(names, res, color ='maroon', width = 0.6)\n",
        "\n",
        "pyplot.title('Algorithm Comparison')\n",
        "pyplot.show()"
      ]
    },
    {
      "cell_type": "markdown",
      "metadata": {
        "id": "ospEktZ3_KgQ"
      },
      "source": [
        "### *Training & Prediction using the algorithm with high accuracy*"
      ]
    },
    {
      "cell_type": "code",
      "execution_count": 15,
      "metadata": {
        "id": "zbi3Uvd0_Yn7"
      },
      "outputs": [
        {
          "name": "stdout",
          "output_type": "stream",
          "text": [
            "[[1 1]\n",
            " [0 0]\n",
            " [0 0]\n",
            " [0 0]\n",
            " [0 0]\n",
            " [0 0]\n",
            " [0 0]\n",
            " [0 0]\n",
            " [0 0]\n",
            " [0 0]\n",
            " [0 0]\n",
            " [0 0]\n",
            " [0 0]\n",
            " [1 0]\n",
            " [0 0]\n",
            " [1 1]\n",
            " [0 0]\n",
            " [1 1]\n",
            " [1 1]\n",
            " [1 1]\n",
            " [1 1]\n",
            " [1 1]\n",
            " [0 0]\n",
            " [0 0]\n",
            " [1 1]\n",
            " [0 0]\n",
            " [0 0]\n",
            " [1 1]\n",
            " [0 0]\n",
            " [1 1]\n",
            " [0 0]\n",
            " [1 1]\n",
            " [0 0]\n",
            " [1 1]\n",
            " [0 0]\n",
            " [1 1]\n",
            " [0 0]\n",
            " [1 1]\n",
            " [0 0]\n",
            " [1 1]\n",
            " [1 1]\n",
            " [0 0]\n",
            " [1 1]\n",
            " [0 0]\n",
            " [0 0]\n",
            " [1 1]\n",
            " [0 0]\n",
            " [0 0]\n",
            " [0 0]\n",
            " [1 1]\n",
            " [1 1]\n",
            " [1 1]\n",
            " [1 1]\n",
            " [0 0]\n",
            " [0 0]\n",
            " [0 0]\n",
            " [0 0]\n",
            " [0 0]\n",
            " [0 0]\n",
            " [1 1]\n",
            " [1 1]\n",
            " [1 1]\n",
            " [0 0]\n",
            " [0 0]\n",
            " [1 1]\n",
            " [0 0]\n",
            " [1 1]\n",
            " [1 1]\n",
            " [1 1]\n",
            " [0 0]\n",
            " [0 0]\n",
            " [1 1]\n",
            " [0 0]\n",
            " [1 1]\n",
            " [1 1]\n",
            " [0 0]\n",
            " [0 0]\n",
            " [0 0]\n",
            " [0 0]\n",
            " [0 0]\n",
            " [1 1]\n",
            " [1 1]\n",
            " [1 1]\n",
            " [0 0]\n",
            " [1 1]\n",
            " [0 0]\n",
            " [0 0]\n",
            " [0 0]\n",
            " [1 1]\n",
            " [1 1]\n",
            " [0 0]\n",
            " [0 1]\n",
            " [1 0]\n",
            " [1 1]\n",
            " [0 0]\n",
            " [0 0]\n",
            " [1 1]\n",
            " [0 0]\n",
            " [0 0]\n",
            " [0 0]\n",
            " [0 0]\n",
            " [0 0]\n",
            " [0 0]\n",
            " [0 0]\n",
            " [1 1]\n",
            " [0 0]\n",
            " [1 1]\n",
            " [0 0]\n",
            " [0 1]\n",
            " [1 1]\n",
            " [0 0]\n",
            " [1 1]\n",
            " [1 1]\n",
            " [0 0]\n",
            " [0 0]\n",
            " [0 0]\n",
            " [0 0]\n",
            " [0 0]\n",
            " [0 0]\n",
            " [0 0]\n",
            " [0 0]\n",
            " [0 0]\n",
            " [1 1]\n",
            " [0 0]\n",
            " [1 1]\n",
            " [0 0]\n",
            " [0 0]\n",
            " [0 0]\n",
            " [0 0]\n",
            " [0 0]\n",
            " [1 1]\n",
            " [0 0]\n",
            " [0 0]\n",
            " [0 0]\n",
            " [0 0]\n",
            " [0 0]\n",
            " [0 0]\n",
            " [0 1]\n",
            " [1 1]\n",
            " [0 0]\n",
            " [0 0]\n",
            " [0 0]\n",
            " [1 1]]\n"
          ]
        }
      ],
      "source": [
        "from sklearn.svm import SVC\n",
        "model.fit(X_train, y_train)\n",
        "y_pred = model.predict(X_test)\n",
        "print(np.concatenate((y_pred.reshape(len(y_pred),1), y_test.reshape(len(y_test),1)),1))"
      ]
    },
    {
      "cell_type": "code",
      "execution_count": null,
      "metadata": {},
      "outputs": [],
      "source": []
    }
  ],
  "metadata": {
    "colab": {
      "collapsed_sections": [],
      "name": "Day-10_BreastCancerDetection_VariousMLAlgorithm.ipynb",
      "provenance": []
    },
    "kernelspec": {
      "display_name": "Python 3",
      "name": "python3"
    },
    "language_info": {
      "codemirror_mode": {
        "name": "ipython",
        "version": 3
      },
      "file_extension": ".py",
      "mimetype": "text/x-python",
      "name": "python",
      "nbconvert_exporter": "python",
      "pygments_lexer": "ipython3",
      "version": "3.9.7"
    }
  },
  "nbformat": 4,
  "nbformat_minor": 0
}
